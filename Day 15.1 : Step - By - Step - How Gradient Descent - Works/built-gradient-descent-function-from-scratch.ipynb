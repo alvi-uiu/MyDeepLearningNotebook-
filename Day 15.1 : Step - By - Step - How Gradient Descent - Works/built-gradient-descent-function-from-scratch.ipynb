{
 "cells": [
  {
   "cell_type": "markdown",
   "id": "7b17dfe8-db9c-403f-9e12-d7405564f065",
   "metadata": {},
   "source": [
    "## Author : Riasad Alvi \n",
    "### 10 Jan 2025"
   ]
  },
  {
   "cell_type": "markdown",
   "id": "f3aa7e13-bd9a-4d55-abba-a31409aaebe6",
   "metadata": {},
   "source": [
    "from sklearn.datasets import make_regression\n",
    "import matplotlib.pyplot as plt\n",
    "import numpy as np\n",
    "from sklearn.model_selection import cross_val_score"
   ]
  },
  {
   "cell_type": "code",
   "execution_count": 194,
   "id": "a720e496",
   "metadata": {},
   "outputs": [],
   "source": [
    "X,y = make_regression(n_samples=100, n_features=1, n_informative=1, n_targets=1,noise=20,random_state=13)"
   ]
  },
  {
   "cell_type": "markdown",
   "id": "1abcf93b-2f3f-448d-96c2-58a27df83d6a",
   "metadata": {},
   "source": [
    "    n_samples=100: Creates 100 data points (samples).\n",
    "    n_features=1: Each sample has 1 feature (independent variable).\n",
    "    n_informative=1: Only 1 feature is useful to predict the target (dependent variable).\n",
    "    n_targets=1: The target variable is a single continuous value.\n",
    "    noise=20: Adds Gaussian noise with a standard deviation of 20 to make the data less perfect (more realistic).\n",
    "    random_state=13: Ensures reproducibility by fixing the random seed.\n",
    "    The variables X (features) and y (target) hold the generated data."
   ]
  },
  {
   "cell_type": "code",
   "execution_count": 197,
   "id": "623ddc39",
   "metadata": {},
   "outputs": [
    {
     "data": {
      "text/plain": [
       "<matplotlib.collections.PathCollection at 0x7f708a34ba40>"
      ]
     },
     "execution_count": 197,
     "metadata": {},
     "output_type": "execute_result"
    },
    {
     "data": {
      "image/png": "[encoded data removed]",
      "text/plain": [
       "<Figure size 640x480 with 1 Axes>"
      ]
     },
     "metadata": {},
     "output_type": "display_data"
    }
   ],
   "source": [
    "plt.scatter(X,y)"
   ]
  },
  {
   "cell_type": "code",
   "execution_count": 199,
   "id": "fb217682",
   "metadata": {},
   "outputs": [],
   "source": [
    "from sklearn.model_selection import train_test_split\n",
    "X_train,X_test,y_train,y_test = train_test_split(X,y,test_size=0.2,random_state=2)"
   ]
  },
  {
   "cell_type": "markdown",
   "id": "02daccac-0d85-40aa-857c-11e90f2640a1",
   "metadata": {},
   "source": [
    "    X and y: The features and target data to be split.\n",
    "    test_size=0.2: Reserves 20% of the data for testing and uses 80% for training.\n",
    "    random_state=2: Ensures reproducibility by fixing the random seed.\n",
    "\n",
    "After this:\n",
    "\n",
    "    X_train and y_train contain the training data (80%).\n",
    "    X_test and y_test contain the testing data (20%)."
   ]
  },
  {
   "cell_type": "code",
   "execution_count": 202,
   "id": "1c75b68c",
   "metadata": {},
   "outputs": [],
   "source": [
    "from sklearn.linear_model import LinearRegression"
   ]
  },
  {
   "cell_type": "code",
   "execution_count": 204,
   "id": "7f55ab93",
   "metadata": {},
   "outputs": [],
   "source": [
    "lr = LinearRegression()"
   ]
  },
  {
   "cell_type": "code",
   "execution_count": 206,
   "id": "8a9b8dab",
   "metadata": {},
   "outputs": [
    {
     "name": "stdout",
     "output_type": "stream",
     "text": [
      "[28.12597332]\n",
      "-2.2710144261783825\n"
     ]
    }
   ],
   "source": [
    "# actual value of m and b : \n",
    "lr.fit(X_train,y_train)\n",
    "print(lr.coef_)\n",
    "print(lr.intercept_)"
   ]
  },
  {
   "cell_type": "code",
   "execution_count": 208,
   "id": "a1891526",
   "metadata": {},
   "outputs": [
    {
     "data": {
      "text/plain": [
       "0.6345158782661012"
      ]
     },
     "execution_count": 208,
     "metadata": {},
     "output_type": "execute_result"
    }
   ],
   "source": [
    "# accuracy : \n",
    "y_pred = lr.predict(X_test)\n",
    "from sklearn.metrics import r2_score\n",
    "r2_score(y_test,y_pred)"
   ]
  },
  {
   "cell_type": "markdown",
   "id": "f2690f96-1523-41ce-8751-62248066df18",
   "metadata": {},
   "source": [
    "## My own Gradient Regressor function : "
   ]
  },
  {
   "cell_type": "code",
   "execution_count": 211,
   "id": "68858bae",
   "metadata": {},
   "outputs": [],
   "source": [
    "class GDRegressor2:\n",
    "    \n",
    "    def __init__(self, learning_rate, epochs):\n",
    "        self.m = 100  # Starting from a random value of m\n",
    "        self.b = -120  # Starting from a random value of b\n",
    "        self.lr = learning_rate  # Learning rate given by the user\n",
    "        self.epochs = epochs  # Number of epochs given by the user\n",
    "        \n",
    "    def fit(self, X, y):\n",
    "        # Calculate `m` and `b` using gradient descent\n",
    "        for i in range(self.epochs):\n",
    "            loss_slope_b = -2 * np.sum(y - self.m * X.ravel() - self.b)  # Gradient for b\n",
    "            loss_slope_m = -2 * np.sum((y - self.m * X.ravel() - self.b) * X.ravel())  # Gradient for m\n",
    "            \n",
    "            # Update b and m\n",
    "            self.b = self.b - (self.lr * loss_slope_b)\n",
    "            self.m = self.m - (self.lr * loss_slope_m)  \n",
    "            \n",
    "        print(self.m, self.b)  # Print final values of m and b\n",
    "\n",
    "    def predict(self, X):\n",
    "        return self.m * X + self.b\n"
   ]
  },
  {
   "cell_type": "markdown",
   "id": "60f0b1ae-9d7c-46cc-b2d0-b13d8cd18ef5",
   "metadata": {},
   "source": [
    "This code defines a custom linear regression model using **Gradient Descent**. Here's what each part does:\n",
    "\n",
    "### Class: `GDRegressor2`\n",
    "A simple implementation of a linear regression model with manual gradient descent.\n",
    "\n",
    "---\n",
    "\n",
    "### **`__init__` Method**\n",
    "- Initializes the model with:\n",
    "  - **`m`** (slope) starting at 100.\n",
    "  - **`b`** (intercept) starting at -120.\n",
    "  - **`learning_rate` (lr)**: The rate at which the model updates parameters.\n",
    "  - **`epochs`**: Number of iterations for training.\n",
    "\n",
    "---\n",
    "\n",
    "### **`fit` Method**\n",
    "- Trains the model by:\n",
    "  1. Calculating the gradients of the **loss function** (mean squared error) with respect to `m` and `b`:\n",
    "   - `loss_slope_b`: Gradient for `b`.\n",
    "   - `loss_slope_m`: Gradient for `m`.\n",
    "  2. Updating `m` and `b` using the gradients and learning rate.\n",
    "  3. Repeats this process for the specified number of `epochs`.\n",
    "\n",
    "- Prints the final values of `m` and `b` after training.\n",
    "\n",
    "---\n",
    "\n",
    "### **`predict` Method**\n",
    "- Makes predictions using the formula:\n",
    "  \\[\n",
    "  \\hat{y} = mX + b\n",
    "  \\]\n",
    "\n",
    "---\n",
    "\n",
    "### Summary\n",
    "This class implements linear regression manually, using gradient descent to optimize the parameters (`m` and `b`). It can:\n",
    "- Learn the best-fit line using `fit(X, y)`.\n",
    "- Make predictions using `predict(X)`."
   ]
  },
  {
   "cell_type": "code",
   "execution_count": 214,
   "id": "38b6d185-23da-420e-8a12-4ddb1fd5d6e0",
   "metadata": {},
   "outputs": [],
   "source": [
    "gd = GDRegressor2(0.001,500)"
   ]
  },
  {
   "cell_type": "markdown",
   "id": "d13fa2fe-60dc-42e5-af7e-bf64b72cb424",
   "metadata": {},
   "source": [
    "This code creates an instance of the `GDRegressor2` class, initializing the gradient descent-based linear regression model with the following parameters:\n",
    "\n",
    "- **`learning_rate=0.001`**: The model will adjust the parameters (`m` and `b`) slowly in each step to ensure stable convergence.\n",
    "- **`epochs=500`**: The model will iterate 500 times to optimize `m` and `b` using gradient descent.\n",
    "\n",
    "Now, the `gd` object is ready to be trained on data using the `fit(X, y)` method."
   ]
  },
  {
   "cell_type": "code",
   "execution_count": 217,
   "id": "8c9bc2bb-c64d-4ee7-9f7a-eb52343403fc",
   "metadata": {},
   "outputs": [
    {
     "name": "stdout",
     "output_type": "stream",
     "text": [
      "28.12597331513562 -2.2710144261783833\n"
     ]
    }
   ],
   "source": [
    "gd.fit(X_train,y_train)"
   ]
  },
  {
   "cell_type": "markdown",
   "id": "d3801501-e752-4174-ba5b-af5e76413921",
   "metadata": {},
   "source": [
    "This code trains the `GDRegressor2` model on the training data:\n",
    "\n",
    "- **`X_train`**: The training features (independent variable).\n",
    "- **`y_train`**: The training target values (dependent variable).\n",
    "\n",
    "During training:\n",
    "1. The model computes gradients for the slope (`m`) and intercept (`b`) based on the training data and updates their values using gradient descent.\n",
    "2. This process repeats for 500 epochs (as specified during initialization).\n",
    "\n",
    "At the end of training, the final values of `m` (slope) and `b` (intercept) are printed, representing the best-fit line learned by the model."
   ]
  },
  {
   "cell_type": "code",
   "execution_count": 220,
   "id": "4e39f375-7cc9-4cd0-9300-5b002a2edb01",
   "metadata": {},
   "outputs": [
    {
     "data": {
      "text/plain": [
       "0.6345158782661012"
      ]
     },
     "execution_count": 220,
     "metadata": {},
     "output_type": "execute_result"
    }
   ],
   "source": [
    "# accuracy : \n",
    "y_pred = gd.predict(X_test)\n",
    "from sklearn.metrics import r2_score\n",
    "r2_score(y_test,y_pred)"
   ]
  },
  {
   "cell_type": "code",
   "execution_count": 224,
   "id": "25b203fb-27a4-45ee-b196-93a69f23ae8e",
   "metadata": {},
   "outputs": [
    {
     "data": {
      "text/plain": [
       "array([[-22.30769518],\n",
       "       [-14.56616147],\n",
       "       [-15.03324179],\n",
       "       [ 24.52827391],\n",
       "       [  4.41896879],\n",
       "       [ 21.9513937 ],\n",
       "       [ -9.11480209],\n",
       "       [  2.93077044],\n",
       "       [-22.549832  ],\n",
       "       [-14.36228828],\n",
       "       [ 54.40903272],\n",
       "       [  8.90178452],\n",
       "       [  3.57356433],\n",
       "       [ -8.8082183 ],\n",
       "       [-23.8893975 ],\n",
       "       [ 10.47451264],\n",
       "       [ 15.72634513],\n",
       "       [  7.84118132],\n",
       "       [-47.6974979 ],\n",
       "       [ 46.92811348],\n",
       "       [-24.46209869],\n",
       "       [-16.670531  ],\n",
       "       [-28.38134621],\n",
       "       [ 58.21059953],\n",
       "       [ -8.10292651],\n",
       "       [-48.37211197],\n",
       "       [-11.79498241],\n",
       "       [-11.33105581],\n",
       "       [-15.81005402],\n",
       "       [-16.98551717],\n",
       "       [ 18.03495551],\n",
       "       [ 19.27097931],\n",
       "       [ 10.48358121],\n",
       "       [-37.75490958],\n",
       "       [-63.78576024],\n",
       "       [-35.61207222],\n",
       "       [  3.84502514],\n",
       "       [ 35.14544387],\n",
       "       [-32.84905484],\n",
       "       [ 13.54314331],\n",
       "       [-44.82125577],\n",
       "       [ -2.3382081 ],\n",
       "       [-10.09381842],\n",
       "       [ 10.43664736],\n",
       "       [ 31.21873029],\n",
       "       [ 23.67081248],\n",
       "       [ 20.65152566],\n",
       "       [-19.73667296],\n",
       "       [ 23.42883226],\n",
       "       [ 29.74571049],\n",
       "       [ 39.31846117],\n",
       "       [-20.58261158],\n",
       "       [-12.84412922],\n",
       "       [-24.05908185],\n",
       "       [ 11.82395976],\n",
       "       [ 35.70433441],\n",
       "       [ 18.23747414],\n",
       "       [ -4.56754392],\n",
       "       [-26.29461634],\n",
       "       [ 10.82606927],\n",
       "       [ -3.52270682],\n",
       "       [ -3.88916883],\n",
       "       [ 50.96420271],\n",
       "       [-31.6732637 ],\n",
       "       [ 13.61043701],\n",
       "       [-56.38987175],\n",
       "       [-23.76021347],\n",
       "       [  1.30951424],\n",
       "       [ -3.02399314],\n",
       "       [ -6.35522449],\n",
       "       [ 13.55959924],\n",
       "       [  6.65478916],\n",
       "       [ 17.72584368],\n",
       "       [ 18.92939863],\n",
       "       [-12.68088936],\n",
       "       [ 35.56128033],\n",
       "       [ 12.70150681],\n",
       "       [-29.95149431],\n",
       "       [ 35.70765598],\n",
       "       [-12.01966768],\n",
       "       [ 12.19498523],\n",
       "       [  0.57729686],\n",
       "       [-20.76432755],\n",
       "       [ 21.09901593],\n",
       "       [-11.19442866],\n",
       "       [-29.84218375],\n",
       "       [ 37.08392804],\n",
       "       [ 13.13972133],\n",
       "       [-17.18698894],\n",
       "       [ 11.53523364],\n",
       "       [  7.53793547],\n",
       "       [ 55.49110674],\n",
       "       [ 14.78144416],\n",
       "       [-13.08426102],\n",
       "       [-56.98702082],\n",
       "       [-11.12670427],\n",
       "       [ 49.75113925],\n",
       "       [-33.78636079],\n",
       "       [-11.6278444 ],\n",
       "       [-23.57512364]])"
      ]
     },
     "execution_count": 224,
     "metadata": {},
     "output_type": "execute_result"
    }
   ],
   "source": [
    "# y^ =mX+b\n",
    "#It returns the predicted values based on the given input features X.\n",
    "gd.predict(X)\n"
   ]
  },
  {
   "cell_type": "code",
   "execution_count": null,
   "id": "e7011c90-0126-4849-b4cf-eb99bcf38813",
   "metadata": {},
   "outputs": [],
   "source": []
  }
 ],
 "metadata": {
  "kernelspec": {
   "display_name": "Python 3 (ipykernel)",
   "language": "python",
   "name": "python3"
  },
  "language_info": {
   "codemirror_mode": {
    "name": "ipython",
    "version": 3
   },
   "file_extension": ".py",
   "mimetype": "text/x-python",
   "name": "python",
   "nbconvert_exporter": "python",
   "pygments_lexer": "ipython3",
   "version": "3.12.2"
  }
 },
 "nbformat": 4,
 "nbformat_minor": 5
}
