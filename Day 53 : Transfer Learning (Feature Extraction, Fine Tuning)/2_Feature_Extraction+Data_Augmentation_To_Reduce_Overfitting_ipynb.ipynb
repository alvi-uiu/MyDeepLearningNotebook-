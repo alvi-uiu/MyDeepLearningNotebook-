{
  "nbformat": 4,
  "nbformat_minor": 0,
  "metadata": {
    "colab": {
      "provenance": []
    },
    "kernelspec": {
      "name": "python3",
      "display_name": "Python 3"
    },
    "language_info": {
      "name": "python"
    },
    "accelerator": "GPU"
  },
  "cells": [
    {
      "cell_type": "markdown",
      "source": [
        "##  Author : Riasad Alvi\n",
        "### 22 Jan 2025"
      ],
      "metadata": {
        "id": "6IyWYR1NrMYM"
      }
    },
    {
      "cell_type": "code",
      "execution_count": 2,
      "metadata": {
        "id": "-VmS75-_WITF"
      },
      "outputs": [],
      "source": [
        "!mkdir -p ~/.kaggle\n",
        "!cp kaggle.json ~/.kaggle/"
      ]
    },
    {
      "cell_type": "code",
      "source": [
        "!kaggle datasets download -d salader/dogs-vs-cats\n",
        "!chmod 600 /root/.kaggle/kaggle.json"
      ],
      "metadata": {
        "colab": {
          "base_uri": "https://localhost:8080/"
        },
        "id": "V4bTGYIrWZsR",
        "outputId": "22bd3cc6-e39b-445b-90b2-736395978e14"
      },
      "execution_count": 4,
      "outputs": [
        {
          "output_type": "stream",
          "name": "stdout",
          "text": [
            "Warning: Your Kaggle API key is readable by other users on this system! To fix this, you can run 'chmod 600 /root/.kaggle/kaggle.json'\n",
            "Dataset URL: https://www.kaggle.com/datasets/salader/dogs-vs-cats\n",
            "License(s): unknown\n",
            "Downloading dogs-vs-cats.zip to /content\n",
            " 99% 1.05G/1.06G [00:04<00:00, 218MB/s]\n",
            "100% 1.06G/1.06G [00:04<00:00, 275MB/s]\n"
          ]
        }
      ]
    },
    {
      "cell_type": "code",
      "source": [
        "import zipfile\n",
        "zip_ref = zipfile.ZipFile('/content/dogs-vs-cats.zip', 'r')\n",
        "zip_ref.extractall('/content')\n",
        "zip_ref.close()"
      ],
      "metadata": {
        "id": "pBiusQLdWc1Z"
      },
      "execution_count": 5,
      "outputs": []
    },
    {
      "cell_type": "code",
      "source": [
        "import tensorflow\n",
        "from tensorflow import keras\n",
        "from keras import Sequential\n",
        "from keras.layers import Dense,Flatten\n",
        "from keras.applications.vgg19 import VGG19"
      ],
      "metadata": {
        "id": "F3T2PWpSWhNA"
      },
      "execution_count": 8,
      "outputs": []
    },
    {
      "cell_type": "code",
      "source": [
        "conv_base = VGG19(\n",
        "    weights='imagenet',  # Load pre-trained weights from the ImageNet dataset\n",
        "    include_top=False,   # Exclude the fully connected (dense) layers (we only need the convolutional base)\n",
        "    input_shape=(224, 224, 3)  # Specify the input shape for the images (224x224 RGB images)\n",
        ")\n"
      ],
      "metadata": {
        "colab": {
          "base_uri": "https://localhost:8080/"
        },
        "id": "SAzWn-kaWjzg",
        "outputId": "1f94c185-ca3f-4d96-976e-6e91908d943b"
      },
      "execution_count": 9,
      "outputs": [
        {
          "output_type": "stream",
          "name": "stdout",
          "text": [
            "Downloading data from https://storage.googleapis.com/tensorflow/keras-applications/vgg19/vgg19_weights_tf_dim_ordering_tf_kernels_notop.h5\n",
            "\u001b[1m80134624/80134624\u001b[0m \u001b[32m━━━━━━━━━━━━━━━━━━━━\u001b[0m\u001b[37m\u001b[0m \u001b[1m0s\u001b[0m 0us/step\n"
          ]
        }
      ]
    },
    {
      "cell_type": "code",
      "source": [
        "model = Sequential()\n",
        "# Create a Sequential model, which allows stacking layers in a linear order.\n",
        "\n",
        "model.add(conv_base)\n",
        "# Add the convolutional base (VGG19) as the first layer, using pre-trained weights. It extracts features from input images.\n",
        "\n",
        "model.add(Flatten())\n",
        "# Flatten the 3D feature maps from the convolutional layers into a 1D vector. This prepares the data for the Dense layers.\n",
        "\n",
        "model.add(Dense(256, activation='relu'))\n",
        "# Add a fully connected (Dense) layer with 256 neurons and ReLU activation. This layer learns high-level patterns from the features.\n",
        "\n",
        "model.add(Dense(1, activation='sigmoid'))\n",
        "# Add the output layer with 1 neuron and sigmoid activation. It outputs a probability for binary classification (e.g., 0 or 1).\n"
      ],
      "metadata": {
        "id": "E7tu6Vl4WmhF"
      },
      "execution_count": 10,
      "outputs": []
    },
    {
      "cell_type": "code",
      "source": [
        "conv_base.trainable = False\n",
        "# Freeze the convolutional base (VGG19) to prevent its weights from being updated during training.\n",
        "# This ensures that the pre-trained feature extraction layers retain their learned representations.\n"
      ],
      "metadata": {
        "id": "YgUJbE_YWpuD"
      },
      "execution_count": 11,
      "outputs": []
    },
    {
      "cell_type": "code",
      "source": [
        "from tensorflow.keras.preprocessing.image import ImageDataGenerator, array_to_img, img_to_array, load_img\n",
        "# Import utilities from Keras for image preprocessing, using tensorflow.keras instead of just keras:\n",
        "# - ImageDataGenerator: Used for real-time data augmentation.\n",
        "# - array_to_img: Converts a NumPy array into an image object.\n",
        "# - img_to_array: Converts an image object into a NumPy array.\n",
        "# - load_img: Loads an image as a PIL object for further processing."
      ],
      "metadata": {
        "id": "3XRPf-TBW6SY"
      },
      "execution_count": 13,
      "outputs": []
    },
    {
      "cell_type": "markdown",
      "source": [
        "# Applying Data Augmentation for reducing Overfitting"
      ],
      "metadata": {
        "id": "gUcbgbvTqPWa"
      }
    },
    {
      "cell_type": "code",
      "source": [
        "batch_size = 32  # Set the batch size for training and validation.\n",
        "\n",
        "# Define the data augmentation and preprocessing for training images\n",
        "train_datagen = ImageDataGenerator(\n",
        "    rescale=1./255,           # Rescale image pixel values to the range [0, 1] by dividing by 255.\n",
        "    shear_range=0.2,          # Apply random shear transformations to images.\n",
        "    zoom_range=0.2,           # Apply random zoom to images for data augmentation.\n",
        "    horizontal_flip=True      # Randomly flip images horizontally for augmentation.\n",
        ")\n",
        "\n",
        "# Define only rescaling for the test images\n",
        "test_datagen = ImageDataGenerator(rescale=1./255)  # Only rescale the test images (no augmentation).\n",
        "\n",
        "# Create a generator for the training data from the 'train' directory\n",
        "train_generator = train_datagen.flow_from_directory(\n",
        "    '/content/train',             # Path to the training images directory.\n",
        "    target_size=(224, 224),       # Resize all images to 224x224 pixels.\n",
        "    batch_size=batch_size,        # Set the batch size to 32.\n",
        "    class_mode='binary'           # Set class mode to binary since it's a binary classification task.\n",
        ")\n",
        "\n",
        "# Create a generator for the validation data from the 'test' directory\n",
        "validation_generator = test_datagen.flow_from_directory(\n",
        "    '/content/test',              # Path to the validation (test) images directory.\n",
        "    target_size=(224,224),       # Resize all images to 224x224 pixels.\n",
        "    batch_size=batch_size,        # Set the batch size to 32.\n",
        "    class_mode='binary'           # Set class mode to binary for binary classification.\n",
        ")\n"
      ],
      "metadata": {
        "colab": {
          "base_uri": "https://localhost:8080/"
        },
        "id": "YKsNsIeDWsKF",
        "outputId": "9b10672d-318b-4778-e56d-4449be4dfcbf"
      },
      "execution_count": 21,
      "outputs": [
        {
          "output_type": "stream",
          "name": "stdout",
          "text": [
            "Found 20000 images belonging to 2 classes.\n",
            "Found 5000 images belonging to 2 classes.\n"
          ]
        }
      ]
    },
    {
      "cell_type": "markdown",
      "source": [
        "\n",
        "### **Purpose and Significance**:\n",
        "- **Purpose**: Sets up data generators to feed images into the model during training and validation, including data augmentation for the training set.\n",
        "- **Significance**:\n",
        "  - **Data Augmentation** (train_datagen): Increases the diversity of the training dataset by applying random transformations (shear, zoom, horizontal flip), helping the model generalize better.\n",
        "  - **Rescaling**: Ensures that pixel values are within a standard range [0, 1], making training more stable.\n",
        "  - **Batch Processing**: Loads images in batches of a specified size (32 in this case) to efficiently train the model.\n",
        "  - **Binary Classification**: The `class_mode='binary'` setting indicates that the task involves two classes (binary classification)."
      ],
      "metadata": {
        "id": "If-CwNE1pH7B"
      }
    },
    {
      "cell_type": "code",
      "source": [
        "model.compile(optimizer='adam',loss='binary_crossentropy',metrics=['accuracy'])"
      ],
      "metadata": {
        "id": "hiMjQzqGXRQn"
      },
      "execution_count": 23,
      "outputs": []
    },
    {
      "cell_type": "markdown",
      "source": [
        "\n",
        "### **Purpose and Significance**:\n",
        "- **Purpose**: Prepares the model for training by specifying how it should update weights (`optimizer`), how to measure prediction error (`loss`), and how to evaluate performance (`metrics`).\n",
        "- **Significance**:\n",
        "  - **Adam Optimizer**: A popular optimization algorithm that adapts the learning rate and is computationally efficient, especially for large datasets and deep learning models.\n",
        "  - **Binary Cross-Entropy Loss**: Suitable for binary classification problems. It measures the difference between the predicted probabilities and the actual labels.\n",
        "  - **Accuracy Metric**: Measures the percentage of correct predictions, providing an intuitive evaluation of the model’s performance during training."
      ],
      "metadata": {
        "id": "XA9dirNYp7TU"
      }
    },
    {
      "cell_type": "code",
      "source": [
        "# Train the model using a generator for training data\n",
        "history = model.fit(\n",
        "        train_generator,               # Train the model using the training data generator\n",
        "        epochs=10,                     # Train for 10 epochs\n",
        "        validation_data=validation_generator) # Use validation data generator for model evaluation during training"
      ],
      "metadata": {
        "colab": {
          "base_uri": "https://localhost:8080/"
        },
        "id": "e9CusZ16XYU7",
        "outputId": "4bdf27ab-4c39-434c-a463-4ec4bd231f46"
      },
      "execution_count": 24,
      "outputs": [
        {
          "output_type": "stream",
          "name": "stdout",
          "text": [
            "Epoch 1/10\n"
          ]
        },
        {
          "output_type": "stream",
          "name": "stderr",
          "text": [
            "/usr/local/lib/python3.11/dist-packages/keras/src/trainers/data_adapters/py_dataset_adapter.py:122: UserWarning: Your `PyDataset` class should call `super().__init__(**kwargs)` in its constructor. `**kwargs` can include `workers`, `use_multiprocessing`, `max_queue_size`. Do not pass these arguments to `fit()`, as they will be ignored.\n",
            "  self._warn_if_super_not_called()\n"
          ]
        },
        {
          "output_type": "stream",
          "name": "stdout",
          "text": [
            "\u001b[1m625/625\u001b[0m \u001b[32m━━━━━━━━━━━━━━━━━━━━\u001b[0m\u001b[37m\u001b[0m \u001b[1m319s\u001b[0m 479ms/step - accuracy: 0.8125 - loss: 0.5896 - val_accuracy: 0.9138 - val_loss: 0.1965\n",
            "Epoch 2/10\n",
            "\u001b[1m625/625\u001b[0m \u001b[32m━━━━━━━━━━━━━━━━━━━━\u001b[0m\u001b[37m\u001b[0m \u001b[1m290s\u001b[0m 461ms/step - accuracy: 0.9029 - loss: 0.2250 - val_accuracy: 0.9314 - val_loss: 0.1695\n",
            "Epoch 3/10\n",
            "\u001b[1m625/625\u001b[0m \u001b[32m━━━━━━━━━━━━━━━━━━━━\u001b[0m\u001b[37m\u001b[0m \u001b[1m323s\u001b[0m 463ms/step - accuracy: 0.9175 - loss: 0.1973 - val_accuracy: 0.9214 - val_loss: 0.1750\n",
            "Epoch 4/10\n",
            "\u001b[1m625/625\u001b[0m \u001b[32m━━━━━━━━━━━━━━━━━━━━\u001b[0m\u001b[37m\u001b[0m \u001b[1m288s\u001b[0m 455ms/step - accuracy: 0.9218 - loss: 0.1878 - val_accuracy: 0.9260 - val_loss: 0.1726\n",
            "Epoch 5/10\n",
            "\u001b[1m625/625\u001b[0m \u001b[32m━━━━━━━━━━━━━━━━━━━━\u001b[0m\u001b[37m\u001b[0m \u001b[1m292s\u001b[0m 463ms/step - accuracy: 0.9236 - loss: 0.1776 - val_accuracy: 0.9238 - val_loss: 0.1807\n",
            "Epoch 6/10\n",
            "\u001b[1m625/625\u001b[0m \u001b[32m━━━━━━━━━━━━━━━━━━━━\u001b[0m\u001b[37m\u001b[0m \u001b[1m304s\u001b[0m 483ms/step - accuracy: 0.9292 - loss: 0.1716 - val_accuracy: 0.9300 - val_loss: 0.1692\n",
            "Epoch 7/10\n",
            "\u001b[1m625/625\u001b[0m \u001b[32m━━━━━━━━━━━━━━━━━━━━\u001b[0m\u001b[37m\u001b[0m \u001b[1m287s\u001b[0m 455ms/step - accuracy: 0.9313 - loss: 0.1647 - val_accuracy: 0.9266 - val_loss: 0.1746\n",
            "Epoch 8/10\n",
            "\u001b[1m625/625\u001b[0m \u001b[32m━━━━━━━━━━━━━━━━━━━━\u001b[0m\u001b[37m\u001b[0m \u001b[1m286s\u001b[0m 455ms/step - accuracy: 0.9345 - loss: 0.1606 - val_accuracy: 0.9286 - val_loss: 0.1658\n",
            "Epoch 9/10\n",
            "\u001b[1m625/625\u001b[0m \u001b[32m━━━━━━━━━━━━━━━━━━━━\u001b[0m\u001b[37m\u001b[0m \u001b[1m286s\u001b[0m 454ms/step - accuracy: 0.9373 - loss: 0.1474 - val_accuracy: 0.9116 - val_loss: 0.2264\n",
            "Epoch 10/10\n",
            "\u001b[1m625/625\u001b[0m \u001b[32m━━━━━━━━━━━━━━━━━━━━\u001b[0m\u001b[37m\u001b[0m \u001b[1m320s\u001b[0m 451ms/step - accuracy: 0.9382 - loss: 0.1533 - val_accuracy: 0.9140 - val_loss: 0.2034\n"
          ]
        }
      ]
    },
    {
      "cell_type": "markdown",
      "source": [
        "\n",
        "### **Purpose and Significance**:\n",
        "- **Purpose**: Fits the model to the training data and validates it using the validation data generator. The model will train for a specified number of epochs.\n",
        "- **Significance**:\n",
        "  - **`fit_generator`**: Used when the dataset is too large to fit into memory at once. It loads data in batches from the generator.\n",
        "  - **`epochs`**: Defines how many times the model will iterate over the entire training dataset.\n",
        "  - **`validation_data`**: Provides data for model evaluation at the end of each epoch, helping monitor performance on unseen data."
      ],
      "metadata": {
        "id": "uxfakUucqG38"
      }
    },
    {
      "cell_type": "code",
      "source": [
        "import matplotlib.pyplot as plt\n",
        "\n",
        "plt.plot(history.history['accuracy'],color='red',label='train')\n",
        "plt.plot(history.history['val_accuracy'],color='blue',label='validation')\n",
        "plt.legend()\n",
        "plt.show()"
      ],
      "metadata": {
        "colab": {
          "base_uri": "https://localhost:8080/",
          "height": 430
        },
        "id": "oMHg3DYgXiSf",
        "outputId": "51d5953f-544a-4387-a699-367dba8d0075"
      },
      "execution_count": 25,
      "outputs": [
        {
          "output_type": "display_data",
          "data": {
            "text/plain": [
              "<Figure size 640x480 with 1 Axes>"
            ],
            "image/png": "[encoded data removed]"
          },
          "metadata": {}
        }
      ]
    },
    {
      "cell_type": "code",
      "source": [
        "plt.plot(history.history['loss'],color='red',label='train')\n",
        "plt.plot(history.history['val_loss'],color='blue',label='validation')\n",
        "plt.legend()\n",
        "plt.show()"
      ],
      "metadata": {
        "colab": {
          "base_uri": "https://localhost:8080/",
          "height": 430
        },
        "id": "m33v_tHcl32u",
        "outputId": "3ee7db70-b4f8-4f1b-bef1-516e9f5acd56"
      },
      "execution_count": 26,
      "outputs": [
        {
          "output_type": "display_data",
          "data": {
            "text/plain": [
              "<Figure size 640x480 with 1 Axes>"
            ],
            "image/png": "[encoded data removed]"
          },
          "metadata": {}
        }
      ]
    },
    {
      "cell_type": "code",
      "source": [],
      "metadata": {
        "id": "ZlcpKlCWl84g"
      },
      "execution_count": null,
      "outputs": []
    }
  ]
}